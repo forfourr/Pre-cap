{
  "nbformat": 4,
  "nbformat_minor": 0,
  "metadata": {
    "colab": {
      "private_outputs": true,
      "provenance": [],
      "authorship_tag": "ABX9TyN5472yKTuT26pA0qVhnn/Q",
      "include_colab_link": true
    },
    "kernelspec": {
      "name": "python3",
      "display_name": "Python 3"
    },
    "language_info": {
      "name": "python"
    }
  },
  "cells": [
    {
      "cell_type": "markdown",
      "metadata": {
        "id": "view-in-github",
        "colab_type": "text"
      },
      "source": [
        "<a href=\"https://colab.research.google.com/github/forfourr/Pre-cap/blob/main/ConputerVision_2.ipynb\" target=\"_parent\"><img src=\"https://colab.research.google.com/assets/colab-badge.svg\" alt=\"Open In Colab\"/></a>"
      ]
    },
    {
      "cell_type": "markdown",
      "source": [
        "# ComputerVision"
      ],
      "metadata": {
        "id": "L7WZMhuTcA8V"
      }
    },
    {
      "cell_type": "code",
      "execution_count": null,
      "metadata": {
        "id": "OjyRD0I8Y-Sm"
      },
      "outputs": [],
      "source": [
        "pip install azure-cognitiveservices-vision-customvision"
      ]
    },
    {
      "cell_type": "code",
      "source": [
        "from azure.cognitiveservices.vision.customvision.training import CustomVisionTrainingClient\n",
        "from azure.cognitiveservices.vision.customvision.training.models import ImageFileCreateEntry\n",
        "from msrest.authentication import ApiKeyCredentials"
      ],
      "metadata": {
        "id": "REvxVlvoZSKN"
      },
      "execution_count": null,
      "outputs": []
    },
    {
      "cell_type": "code",
      "source": [
        "endpoint ='https://labuser62custom.cognitiveservices.azure.com/'\n",
        "training_key='c1d87ab6d8b34f45bb22420b89d4e08a'"
      ],
      "metadata": {
        "id": "0KGamJd2auHF"
      },
      "execution_count": null,
      "outputs": []
    },
    {
      "cell_type": "code",
      "source": [
        "#Naming Model\n",
        "publish_iteration_name = 'GreatWallModel'       #결과물의 이름름\n",
        "credentials = ApiKeyCredentials(in_headers = {'Training-key':training_key})"
      ],
      "metadata": {
        "id": "CfoVBRapbaU2"
      },
      "execution_count": null,
      "outputs": []
    },
    {
      "cell_type": "code",
      "source": [
        "#trainer\n",
        "\n",
        "trainer = CustomVisionTrainingClient(endpoint,credentials)"
      ],
      "metadata": {
        "id": "dIUQz5Jvct8l"
      },
      "execution_count": null,
      "outputs": []
    },
    {
      "cell_type": "markdown",
      "source": [
        "- Create a new project"
      ],
      "metadata": {
        "id": "zEFDOELcfmjF"
      }
    },
    {
      "cell_type": "code",
      "source": [
        "print(\"Creating a project...\")\n",
        "project_name = 'GreateWall_62'\n",
        "project = trainer.create_project(project_name)"
      ],
      "metadata": {
        "id": "RmMR6Kugfrzy"
      },
      "execution_count": null,
      "outputs": []
    },
    {
      "cell_type": "code",
      "source": [
        "#Create Tags\n",
        "\n",
        "Jajag_tag = trainer.create_tag(project.id, 'Jajang')\n",
        "Champong_tag = trainer.create_tag(project.id, 'Champong')\n",
        "Tangsuyuk_tag = trainer.create_tag(project.id, 'Tangsuyuk')"
      ],
      "metadata": {
        "id": "gApntrnlp5E7"
      },
      "execution_count": null,
      "outputs": []
    },
    {
      "cell_type": "code",
      "source": [
        "#Image upload in Azure cloud "
      ],
      "metadata": {
        "id": "tHbdqBsgnS9T"
      },
      "execution_count": null,
      "outputs": []
    },
    {
      "cell_type": "code",
      "source": [
        "#Image training \n",
        "import time\n",
        "print(\"Training...\")\n",
        "\n",
        "iteration = trainer.train_project(project.id)   #project id에 해당되는 project를 시작\n",
        "# while (iteration.status != 'Completed'):        #Keep going before completed\n",
        "#     interation = trainer.get_iteration(project.id, iteration.id)    #10초마다 최신의 상태를 보여주기 위해\n",
        "#     print(\"Trainging status: \"+ interation.status)     #현재상태 보여줌\n",
        "#     print('waiting...')\n",
        "#     time.sleep(10)      #10초에 한 번씩 돎\n",
        "\n",
        "while (iteration.status != 'Completed'):\n",
        "  iteration = trainer.get_iteration(project.id, iteration.id)\n",
        "  print('Training status: ' + iteration.status)\n",
        "  print('Waiting 10 seconds...')\n",
        "  time.sleep(10)"
      ],
      "metadata": {
        "id": "XdcMTVEphxeE"
      },
      "execution_count": null,
      "outputs": []
    },
    {
      "cell_type": "code",
      "source": [
        "#Test"
      ],
      "metadata": {
        "id": "RtfqdkC807WM"
      },
      "execution_count": null,
      "outputs": []
    },
    {
      "cell_type": "code",
      "source": [
        "# 예측, 추론하는 부분\n",
        "from azure.cognitiveservices.vision.customvision.prediction import CustomVisionPredictionClient"
      ],
      "metadata": {
        "id": "Ynyauz_809XK"
      },
      "execution_count": null,
      "outputs": []
    },
    {
      "cell_type": "code",
      "source": [
        "prediction_key = 'c1468035b261480095f9c613b30cfc7a'\n",
        "prediction_endpoint = 'https://labuser62custom-prediction.cognitiveservices.azure.com/'\n",
        "\n",
        "prediction_credential = ApiKeyCredentials(\n",
        "    in_headers={'Prediction-key': prediction_key})"
      ],
      "metadata": {
        "id": "xzmtjym81SgZ"
      },
      "execution_count": null,
      "outputs": []
    },
    {
      "cell_type": "code",
      "source": [
        "# 예측 리소스의 생성 \n",
        "predictor = CustomVisionPredictionClient(prediction_endpoint, \n",
        "                                         prediction_credential)"
      ],
      "metadata": {
        "id": "Ds5xlxFM1TSK"
      },
      "execution_count": null,
      "outputs": []
    },
    {
      "cell_type": "code",
      "source": [
        "#Image for test\n",
        "target_image_url = \"https://upload.wikimedia.org/wikipedia/commons/thumb/4/49/Nongshim_Chapagetti_20201120_004.jpg/596px-Nongshim_Chapagetti_20201120_004.jpg\"\n",
        "\n",
        "#TEST!\n",
        "result = predictor.classify_image_url(project.id,\n",
        "                             'Iteration1',\n",
        "                             #publish_iteration_name,\n",
        "                             target_image_url)"
      ],
      "metadata": {
        "id": "v1UqfUuY3yNc"
      },
      "execution_count": null,
      "outputs": []
    },
    {
      "cell_type": "code",
      "source": [
        "for prediction in result.predictons:\n",
        "    print('\\t'+ prediction.tag_name +\n",
        "          ': {0:.2f}%'.format(prediction.probability*100))"
      ],
      "metadata": {
        "id": "KHaFqUKs4Ws2"
      },
      "execution_count": null,
      "outputs": []
    },
    {
      "cell_type": "code",
      "source": [],
      "metadata": {
        "id": "leNaBXQD78_C"
      },
      "execution_count": null,
      "outputs": []
    }
  ]
}