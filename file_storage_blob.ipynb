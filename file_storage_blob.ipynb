{
  "nbformat": 4,
  "nbformat_minor": 0,
  "metadata": {
    "colab": {
      "private_outputs": true,
      "provenance": [],
      "authorship_tag": "ABX9TyMoAW0EsWwONW1ndLzU3uNB",
      "include_colab_link": true
    },
    "kernelspec": {
      "name": "python3",
      "display_name": "Python 3"
    },
    "language_info": {
      "name": "python"
    }
  },
  "cells": [
    {
      "cell_type": "markdown",
      "metadata": {
        "id": "view-in-github",
        "colab_type": "text"
      },
      "source": [
        "<a href=\"https://colab.research.google.com/github/forfourr/Pre-cap/blob/main/file_storage_blob.ipynb\" target=\"_parent\"><img src=\"https://colab.research.google.com/assets/colab-badge.svg\" alt=\"Open In Colab\"/></a>"
      ]
    },
    {
      "cell_type": "markdown",
      "source": [
        "# Storage"
      ],
      "metadata": {
        "id": "ptpo1E1SV24D"
      }
    },
    {
      "cell_type": "markdown",
      "source": [
        "\n",
        "\n",
        "> Azure Storage Account\n",
        "\n",
        "- 비정형 및 반정형 데이터 저장소\n",
        "- 뛰어난 내구성, 가용성\n",
        "- 제한 없는 저장소 용량\n",
        "- 손쉬운 엑세스\n",
        "- 높은 성능\n",
        "- Blob(Oject storage), Files(file shares), Table(key-value storage), Queue(Simple queue)\n",
        "\n"
      ],
      "metadata": {
        "id": "8su-BzvJV70c"
      }
    },
    {
      "cell_type": "code",
      "source": [
        "!pip install azure-storage-blob azure-identity"
      ],
      "metadata": {
        "id": "OA3bL9vbWKxh"
      },
      "execution_count": null,
      "outputs": []
    },
    {
      "cell_type": "code",
      "source": [
        "import os, uuid\n",
        "from azure.identity import DefaultAzureCredential\n",
        "from azure.storage.blob import BlobServiceClient, BlobClient, ContainerClient"
      ],
      "metadata": {
        "id": "vqRpsYNBmJdv"
      },
      "execution_count": null,
      "outputs": []
    },
    {
      "cell_type": "code",
      "source": [
        "#connection string으로 blob서비스에 접속속\n",
        "connect_str='DefaultEndpointsProtocol=https;AccountName=labuser62;AccountKey=K4l8YcEsV/tAAOCafYU3WrtNnWlBY9Wo7X5KpYR4ZOA07tB0ScyUJZ5s8XlZbbsrpPbCSoUBxuW4+ASthXXVUA==;EndpointSuffix=core.windows.net'"
      ],
      "metadata": {
        "id": "PtDITZ6tmg3W"
      },
      "execution_count": null,
      "outputs": []
    },
    {
      "cell_type": "code",
      "source": [
        "#Blob service 자체 만들기기\n",
        "blob_service_client = BlobServiceClient.from_connection_string(connect_str)    #연결해봐"
      ],
      "metadata": {
        "id": "x1CAQB9Gn7jJ"
      },
      "execution_count": null,
      "outputs": []
    },
    {
      "cell_type": "code",
      "source": [
        "#container 만들기\n",
        "container_name ='test2container'  #naming\n",
        "container_client = blob_service_client.create_container(container_name)"
      ],
      "metadata": {
        "id": "IjkbBz7ioQRE"
      },
      "execution_count": null,
      "outputs": []
    },
    {
      "cell_type": "code",
      "source": [
        "#create a local directory to hold blob data\n",
        "local_path = './data'      #os로 경로 설정\n",
        "os.mkdir(local_path)       #directory  설정\n",
        "\n",
        "#create a file in a local data directory to upload\n",
        "local_file_name = 'welcome' + '.txt'                            #파일이름\n",
        "upload_file_path = os.path.join(local_path, local_file_name)    #경로와 파일 합쳐줌-> 파일의전체 경로\n",
        "\n",
        "#write text to the file\n",
        "file = open(upload_file_path, mode ='w')    #Write모드(쓰기)로 열것이다. 없으면 생성되서 열것이다\n",
        "file.write('welcome to my place~!')\n",
        "file.close()\n",
        "\n",
        "\n"
      ],
      "metadata": {
        "id": "cUtLg936pwbt"
      },
      "execution_count": null,
      "outputs": []
    },
    {
      "cell_type": "code",
      "source": [
        "blob_client = blob_service_client.get_blob_client(\n",
        "                  container=container_name, blob=local_file_name)\n",
        "\n",
        "with open(file=upload_file_path, mode='rb') as data:\n",
        "  blob_client.upload_blob(data)"
      ],
      "metadata": {
        "id": "5uOxaT4UQNMx"
      },
      "execution_count": null,
      "outputs": []
    },
    {
      "cell_type": "code",
      "source": [
        "#Check blob file list\n",
        "print('\\nListing blobs')\n",
        "blob_list = container_client.list_blobs()\n",
        "\n",
        "#print list\n",
        "for blob in blob_list:\n",
        "    print('\\t'+blob.name)"
      ],
      "metadata": {
        "id": "Fh8m7wuGt1A4"
      },
      "execution_count": null,
      "outputs": []
    },
    {
      "cell_type": "code",
      "source": [
        "#Download the blob to a loacal file in colab\n",
        "#check if it's possible to download\n",
        "#Add ' DOWNLOAD' before .txt entendsion -> see both files in data direction\n",
        "\n",
        "#make download file direct\n",
        "download_file_path = os.path.join(local_path,           #local path에는 data폴더 지정되어 있음\n",
        "                                  str.replace(local_file_name,'.txt','_DOWNLOAD.txt'))     #local_file_name.txt를 'DOWNLOAD.txt'로 바꿔줘\n",
        "#local_file_name이 기존 파일이름과 같으니까 덮어쓰기가 됨-> 그래서 바뀌준다\n",
        "print(download_file_path)"
      ],
      "metadata": {
        "id": "4LlYeSmFPdmV"
      },
      "execution_count": null,
      "outputs": []
    },
    {
      "cell_type": "code",
      "source": [
        "#blob에서 container로 정보 가져옴\n",
        "container_client = blob_service_client.get_container_client(container=container_name)\n",
        "\n",
        "#blob container에 있는걸 가져와서 쓰기\n",
        "with open(file = download_file_path, mode='wb') as download_file:   #왔다갔다하는 내용 rb, 다운받아서 사용 wb\n",
        "    download_file.write(container_client.download_blob(blob.name).readall())         \n",
        "    #blob컨테이너(cloud)에 있는 내용 다운, blob이름으로 가져옴\n",
        "    #통째로 읽어서 쓰기"
      ],
      "metadata": {
        "id": "BA3neghTQg8g"
      },
      "execution_count": null,
      "outputs": []
    },
    {
      "cell_type": "markdown",
      "source": [
        "![스크린샷 2023-04-20 103917.png](data:image/png;base64,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)"
      ],
      "metadata": {
        "id": "FS_SK5l2SRUQ"
      }
    },
    {
      "cell_type": "markdown",
      "source": [
        "^ welcome_DOWLOAD.txt 파일 생성됨"
      ],
      "metadata": {
        "id": "tDps80nHSRSY"
      }
    },
    {
      "cell_type": "code",
      "source": [
        "#Clean up\n",
        "print('\\n Press the Enter Key to begin clean up')\n",
        "input()\n",
        "\n",
        "print('Deleting blob container ...')\n",
        "container_client.delete_container()\n",
        "\n",
        "#파일 지우기\n",
        "print('Deleteing the local source and donwload fiels...')\n",
        "os.remove(upload_file_path)\n",
        "os.remove(download_file_path)\n",
        "os.rmdir(local_path)       #dict지우기\n",
        "\n",
        "print('done')"
      ],
      "metadata": {
        "id": "0-0EdPbfSRQD"
      },
      "execution_count": null,
      "outputs": []
    },
    {
      "cell_type": "code",
      "source": [],
      "metadata": {
        "id": "YRJvYw3DSRNx"
      },
      "execution_count": null,
      "outputs": []
    },
    {
      "cell_type": "code",
      "source": [],
      "metadata": {
        "id": "qt3qdRlLSRLX"
      },
      "execution_count": null,
      "outputs": []
    }
  ]
}