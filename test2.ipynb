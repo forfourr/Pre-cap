{
  "nbformat": 4,
  "nbformat_minor": 0,
  "metadata": {
    "colab": {
      "private_outputs": true,
      "provenance": [],
      "collapsed_sections": [
        "UNEGoHe-C_aZ",
        "Hrnp9WeeXOE2",
        "_jPNcQ5_bWPu"
      ],
      "authorship_tag": "ABX9TyMZeVWujNEwBN2AnCHk+u31",
      "include_colab_link": true
    },
    "kernelspec": {
      "name": "python3",
      "display_name": "Python 3"
    },
    "language_info": {
      "name": "python"
    }
  },
  "cells": [
    {
      "cell_type": "markdown",
      "metadata": {
        "id": "view-in-github",
        "colab_type": "text"
      },
      "source": [
        "<a href=\"https://colab.research.google.com/github/forfourr/Pre-cap/blob/main/test2.ipynb\" target=\"_parent\"><img src=\"https://colab.research.google.com/assets/colab-badge.svg\" alt=\"Open In Colab\"/></a>"
      ]
    },
    {
      "cell_type": "markdown",
      "source": [
        "# Class"
      ],
      "metadata": {
        "id": "UNEGoHe-C_aZ"
      }
    },
    {
      "cell_type": "code",
      "source": [
        "class Person:\n",
        "    name = \"이현주\"\n",
        "    age =24\n",
        "    hobby = \"defalt\"\n",
        "\n",
        "    def Print(self):    #class안에 함수는 대문자로시작\n",
        "        print(\"My name is {0}\".format(self.name))"
      ],
      "metadata": {
        "id": "v8J1pNzsFLS5"
      },
      "execution_count": null,
      "outputs": []
    },
    {
      "cell_type": "code",
      "source": [
        "p1 = Person() #p1의 인스턴스 생성 -> p1이라는 사람 생성\n",
        "p1.Print()\n",
        "p1.name = 'P1'\n",
        "p1.Print()"
      ],
      "metadata": {
        "id": "jA3_HP7oLlLv"
      },
      "execution_count": null,
      "outputs": []
    },
    {
      "cell_type": "code",
      "source": [
        "p2 = Person()\n",
        "p2.name = 'P2'\n",
        "p1.Print()\n",
        "p2.Print()"
      ],
      "metadata": {
        "id": "RN6x0Ja6MTel"
      },
      "execution_count": null,
      "outputs": []
    },
    {
      "cell_type": "code",
      "source": [
        "Person.tittle = \"New\"   #새로운 속성 추가\n",
        "print(p1.tittle)        #이전에 만든 p1 인스턴스에도 tittle이 생겼음"
      ],
      "metadata": {
        "id": "IrU2Y2OJNL31"
      },
      "execution_count": null,
      "outputs": []
    },
    {
      "cell_type": "markdown",
      "source": [
        "- class의 상속"
      ],
      "metadata": {
        "id": "6N1g3xqAOOJ_"
      }
    },
    {
      "cell_type": "code",
      "source": [
        "#Person을 상속받은 Student를 만들기 \n",
        "\n",
        "class Student(Person):\n",
        "    student_num = 2019707021"
      ],
      "metadata": {
        "id": "VST3PsjgPMHa"
      },
      "execution_count": null,
      "outputs": []
    },
    {
      "cell_type": "code",
      "source": [
        "st1 = Student()\n",
        "#print(p1.student_num)  !!p1은 상위 개념이기 때문에 student의 속성을 받을 수 없음\n",
        "print(st1.student_num, st1.name)\n",
        "\n",
        "\n",
        "print(isinstance(st1,Student),isinstance(st1,Person))   #상속관계에 있기 때문에 True"
      ],
      "metadata": {
        "id": "pINOPGRHPT2S"
      },
      "execution_count": null,
      "outputs": []
    },
    {
      "cell_type": "markdown",
      "source": [
        "- 생성자 소멸자 메소드"
      ],
      "metadata": {
        "id": "gk2FLZa6PTx9"
      }
    },
    {
      "cell_type": "code",
      "source": [
        "class Myclass:\n",
        "    def __init__(self): #생성자\n",
        "        print(\"CREATE!\")    #생성자를 만들 때 실행됨\n",
        "\n",
        "c1 = Myclass()"
      ],
      "metadata": {
        "id": "N25vFxcIPTvV"
      },
      "execution_count": null,
      "outputs": []
    },
    {
      "cell_type": "code",
      "source": [
        "# 삭제하기\n",
        "del c1"
      ],
      "metadata": {
        "id": "fiPAf4Y5R2yM"
      },
      "execution_count": null,
      "outputs": []
    },
    {
      "cell_type": "code",
      "source": [
        "class Friend:\n",
        "    Name =''\n",
        "    Age = 0\n",
        "\n",
        "    def __init__(self, name, age):\n",
        "        self.Name = name\n",
        "        self.Age = age\n",
        "        print(\"이름: {0}, 나이: {1}\".format(self.Name,self.Age))\n",
        "    def __del__(self):\n",
        "        print(\"{0} is Deleted\".format(self.Name))\n"
      ],
      "metadata": {
        "id": "kbVlKuuOSNmD"
      },
      "execution_count": null,
      "outputs": []
    },
    {
      "cell_type": "code",
      "source": [
        "f1 = Friend('이현주',24)"
      ],
      "metadata": {
        "id": "GlknKHuWU7Ur"
      },
      "execution_count": null,
      "outputs": []
    },
    {
      "cell_type": "code",
      "source": [
        "del f1"
      ],
      "metadata": {
        "id": "VuFqoaz_Wx5E"
      },
      "execution_count": null,
      "outputs": []
    },
    {
      "cell_type": "code",
      "source": [
        "f2 = Friend('sk0',10)\n",
        "\n",
        "del f2"
      ],
      "metadata": {
        "id": "r0ouYh4qXA_G"
      },
      "execution_count": null,
      "outputs": []
    },
    {
      "cell_type": "markdown",
      "source": [
        "# Static 정적 메소드"
      ],
      "metadata": {
        "id": "Hrnp9WeeXOE2"
      }
    },
    {
      "cell_type": "code",
      "source": [
        "class Counter:\n",
        "    InsCount = 0\n",
        "\n",
        "    def __init__(self):\n",
        "        Counter.InsCount +=1\n",
        "    def Printer():\n",
        "        print('Instance Count: ',Counter.InsCount)\n",
        "    def Printer2(self):\n",
        "        print('(better way)Instance Count: ',Counter.InsCount)\n",
        "\n",
        "    StaticCount = staticmethod(Printer) #Printer를 정적메소드로 바꿔줌줌"
      ],
      "metadata": {
        "id": "r74vZPEHYL-x"
      },
      "execution_count": null,
      "outputs": []
    },
    {
      "cell_type": "code",
      "source": [
        "c1 = Counter()\n",
        "c2 = Counter()\n",
        "c3 = Counter()"
      ],
      "metadata": {
        "id": "8tLWniocY7Sd"
      },
      "execution_count": null,
      "outputs": []
    },
    {
      "cell_type": "code",
      "source": [
        "Counter.Printer()   #클래스를 직접활용 X"
      ],
      "metadata": {
        "id": "sCtVtmN-ZCdT"
      },
      "execution_count": null,
      "outputs": []
    },
    {
      "cell_type": "code",
      "source": [
        "c1.Printer2()   #instance를 활용\n",
        "#c1.Printer() --- Error"
      ],
      "metadata": {
        "id": "bxY33iEOZaG_"
      },
      "execution_count": null,
      "outputs": []
    },
    {
      "cell_type": "code",
      "source": [
        "c1.StaticCount()    #정적메소드 활용"
      ],
      "metadata": {
        "id": "Qc8bupFeZ85F"
      },
      "execution_count": null,
      "outputs": []
    },
    {
      "cell_type": "markdown",
      "source": [
        "# 상속 심화"
      ],
      "metadata": {
        "id": "_jPNcQ5_bWPu"
      }
    },
    {
      "cell_type": "code",
      "source": [
        "class Book:\n",
        "\n",
        "    def __init__(self, name, number):\n",
        "        self.Name = name    #Name 속성을 만들면서 넣어줌줌\n",
        "        self.Num = number\n",
        "\n",
        "    def Printinfo(self):\n",
        "        print(\"Book name: '{0}', Book number: '{1}'\".format(self.Name,self.Num))\n",
        "    \n",
        "    def Printer(self):\n",
        "        print(\"another {0}, {1}\".format(self.Name,self.Num))"
      ],
      "metadata": {
        "id": "ESXq7a8ObXCm"
      },
      "execution_count": null,
      "outputs": []
    },
    {
      "cell_type": "code",
      "source": [
        "# Book 상속받는 함수 만들기\n",
        "class subBook(Book):\n",
        "    def __init__(self, name, number, location, author):\n",
        "        self.Name= name\n",
        "        self.Num = number\n",
        "        self.Loc = location\n",
        "        self.Auth = author\n",
        "    \n",
        "    def BookInfo(self,info):\n",
        "        self.Info = info\n",
        "        print(\"Book information: \",self.Info)\n",
        "\n",
        "    #상속받은 class가 부모 method를 가져와 덮어씀 - Override\n",
        "    def Printer(self):\n",
        "        print(\"OverRide : {0}\".format(self.Name))\n",
        "\n",
        "    #부모클래스의 생성자를 호출하기\n",
        "    #Book.__init__(self)\n"
      ],
      "metadata": {
        "id": "NijiCsfabW-F"
      },
      "execution_count": null,
      "outputs": []
    },
    {
      "cell_type": "code",
      "source": [
        "b1 = Book(\"little Prince\", \"B15787\")\n",
        "b1.Printinfo()\n",
        "b1.Printer()"
      ],
      "metadata": {
        "id": "fOz64nqVbW7W"
      },
      "execution_count": null,
      "outputs": []
    },
    {
      "cell_type": "code",
      "source": [
        "sub = subBook(\"Jiustice\",\"C45685\",\"Nowon\",\"%%%\")\n",
        "sub.Printinfo()\n",
        "sub.Printer()   #상속받은 method를 바꿈 - OverRide"
      ],
      "metadata": {
        "id": "FYBxuTkPc0S9"
      },
      "execution_count": null,
      "outputs": []
    },
    {
      "cell_type": "code",
      "source": [
        "#생성된 class 속성 확인하기\n",
        "print(b1.__dict__)"
      ],
      "metadata": {
        "id": "xR2Sp-90c_Ul"
      },
      "execution_count": null,
      "outputs": []
    },
    {
      "cell_type": "code",
      "source": [
        "issubclass(subBook,Book)    #순서바뀌면 False"
      ],
      "metadata": {
        "id": "NnfYsBxbeiEh"
      },
      "execution_count": null,
      "outputs": []
    },
    {
      "cell_type": "code",
      "source": [
        "sub.BookInfo('It had defalt')"
      ],
      "metadata": {
        "id": "RfsGEjBgex5w"
      },
      "execution_count": null,
      "outputs": []
    },
    {
      "cell_type": "code",
      "source": [
        "sub.__dict__"
      ],
      "metadata": {
        "id": "ZpO8wbxLfpC5"
      },
      "execution_count": null,
      "outputs": []
    },
    {
      "cell_type": "markdown",
      "source": [
        "- 다중상속\n"
      ],
      "metadata": {
        "id": "ylhPNM9qfrxZ"
      }
    },
    {
      "cell_type": "code",
      "source": [
        "class Tiger:\n",
        "    def Jump(self):\n",
        "        print(\"JUMP!\")\n",
        "\n",
        "class Lion:\n",
        "    def Bite(self):\n",
        "        print(\"BITEEE!\")\n",
        "\n",
        "\n",
        "#두개 상속받기\n",
        "class Liger(Tiger,Lion):\n",
        "    def Play(self):\n",
        "        print(\"Liger play\")"
      ],
      "metadata": {
        "id": "61RBVIfxzXe0"
      },
      "execution_count": null,
      "outputs": []
    },
    {
      "cell_type": "code",
      "source": [
        "#부모함수의 속성을 실행할 수 있음\n",
        "L1 = Liger()\n",
        "L1.Jump()\n",
        "L1.Bite()"
      ],
      "metadata": {
        "id": "JXbL_MMJz6Wj"
      },
      "execution_count": null,
      "outputs": []
    },
    {
      "cell_type": "markdown",
      "source": [
        "# Module"
      ],
      "metadata": {
        "id": "z8lVe6tk0BEU"
      }
    },
    {
      "cell_type": "code",
      "source": [
        "import math"
      ],
      "metadata": {
        "id": "qc3DFov01d4y"
      },
      "execution_count": null,
      "outputs": []
    },
    {
      "cell_type": "code",
      "source": [
        "from ftplib import FTP"
      ],
      "metadata": {
        "id": "YStUBCm224v_"
      },
      "execution_count": null,
      "outputs": []
    },
    {
      "cell_type": "code",
      "source": [
        "ftp = FTP('ftp1.at.proftpd.org')\n",
        "ftp.login()"
      ],
      "metadata": {
        "id": "jjWy1eWE3Qs3"
      },
      "execution_count": null,
      "outputs": []
    },
    {
      "cell_type": "code",
      "source": [
        "ftp.quit()"
      ],
      "metadata": {
        "id": "QqAGOOr641X-"
      },
      "execution_count": null,
      "outputs": []
    },
    {
      "cell_type": "code",
      "source": [
        "import requests\n",
        "response = requests.get('http://www.naver.com')"
      ],
      "metadata": {
        "id": "QS3Y9USm5a_Z"
      },
      "execution_count": null,
      "outputs": []
    },
    {
      "cell_type": "code",
      "source": [
        "response.text\n",
        "#request.get(http://www.naver.com').text"
      ],
      "metadata": {
        "id": "h2Jz8kMKFC7N"
      },
      "execution_count": null,
      "outputs": []
    },
    {
      "cell_type": "markdown",
      "source": [
        "# 예외 처리 - try & except"
      ],
      "metadata": {
        "id": "DCD7GzL-FkrK"
      }
    },
    {
      "cell_type": "code",
      "source": [
        "def divide(a,b):\n",
        "    return a/b"
      ],
      "metadata": {
        "id": "Xxo_s3ViGg53"
      },
      "execution_count": null,
      "outputs": []
    },
    {
      "cell_type": "code",
      "source": [
        "try:\n",
        "    c = divide(5,0) #만약 이게 오류면 except를 처리해\n",
        "except:\n",
        "    print(\"imited\")"
      ],
      "metadata": {
        "id": "KFyzbkwHGg8W"
      },
      "execution_count": null,
      "outputs": []
    },
    {
      "cell_type": "code",
      "source": [
        "try:\n",
        "    c = divide(5,0)\n",
        "except ZeroDivisionError:\n",
        "    print(\"나누는 값은 0이면 안돼\")\n",
        "except TypeError:  #divide(5,'A')\n",
        "    print(\"typeError\")\n",
        "except:\n",
        "    print('알 수 없는 오류')\n",
        "finally:\n",
        "    print(\"THK\")"
      ],
      "metadata": {
        "id": "Gg3ufueNIsIn"
      },
      "execution_count": null,
      "outputs": []
    },
    {
      "cell_type": "markdown",
      "source": [
        "# IO"
      ],
      "metadata": {
        "id": "lWVdhLVfIgXt"
      }
    },
    {
      "cell_type": "code",
      "source": [
        "import sys\n",
        "print('Welcome','python',sep='~',end='!', file= sys.stderr)\n",
        "# sep =>,\n",
        "# end 마지막 마무리"
      ],
      "metadata": {
        "id": "jyFz-_5PK9ng"
      },
      "execution_count": null,
      "outputs": []
    },
    {
      "cell_type": "code",
      "source": [
        "f = open('test.txt','w')    #읽기모드로 파일 만들기\n",
        "print('welcone',file=f)     #파일에 내용 저장\n",
        "f.close()                   #close 무조건 해야함"
      ],
      "metadata": {
        "id": "q4kpNPUQRz2-"
      },
      "execution_count": null,
      "outputs": []
    },
    {
      "cell_type": "code",
      "source": [
        "f = open('test.txt','r')    #쓰기모드로 파일 열기\n",
        "f.read()"
      ],
      "metadata": {
        "id": "7FbRWmRqTUKT"
      },
      "execution_count": null,
      "outputs": []
    },
    {
      "cell_type": "code",
      "source": [],
      "metadata": {
        "id": "mjpNOUpbUMn0"
      },
      "execution_count": null,
      "outputs": []
    }
  ]
}