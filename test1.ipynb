{
  "nbformat": 4,
  "nbformat_minor": 0,
  "metadata": {
    "colab": {
      "private_outputs": true,
      "provenance": [],
      "authorship_tag": "ABX9TyM32zqrBl8/gkMqHX2sN4oF",
      "include_colab_link": true
    },
    "kernelspec": {
      "name": "python3",
      "display_name": "Python 3"
    },
    "language_info": {
      "name": "python"
    }
  },
  "cells": [
    {
      "cell_type": "markdown",
      "metadata": {
        "id": "view-in-github",
        "colab_type": "text"
      },
      "source": [
        "<a href=\"https://colab.research.google.com/github/forfourr/Pre-cap/blob/main/test1.ipynb\" target=\"_parent\"><img src=\"https://colab.research.google.com/assets/colab-badge.svg\" alt=\"Open In Colab\"/></a>"
      ]
    },
    {
      "cell_type": "code",
      "execution_count": null,
      "metadata": {
        "id": "cpviG6izDNbF"
      },
      "outputs": [],
      "source": [
        "print(\"hi\")"
      ]
    },
    {
      "cell_type": "code",
      "source": [
        "a= 'python'\n",
        "\n",
        "a[:2]"
      ],
      "metadata": {
        "id": "e7MSqn_tDY9C"
      },
      "execution_count": null,
      "outputs": []
    },
    {
      "cell_type": "markdown",
      "source": [],
      "metadata": {
        "id": "VcU-V-dEvd1e"
      }
    },
    {
      "cell_type": "markdown",
      "source": [
        "# List"
      ],
      "metadata": {
        "id": "AX4_AgbK8FQc"
      }
    },
    {
      "cell_type": "markdown",
      "source": [
        "- 열거형자료구조 (append,insert,extend,index,count)"
      ],
      "metadata": {
        "id": "1LNcChylwEwl"
      }
    },
    {
      "cell_type": "code",
      "source": [
        "color = ['red','pink','black']\n",
        "print(color)\n",
        "type(color)"
      ],
      "metadata": {
        "id": "Y4_Vd2cYwGmR"
      },
      "execution_count": null,
      "outputs": []
    },
    {
      "cell_type": "code",
      "source": [
        "color.append('blue') #맨마지막에 추가\n",
        "# color+=['blue'] 와 같은 것것\n",
        "color"
      ],
      "metadata": {
        "id": "_Qjt8UtcwT8c"
      },
      "execution_count": null,
      "outputs": []
    },
    {
      "cell_type": "code",
      "source": [
        "color.insert(2,\"orange\") #2번째에 \"orange\"c추가\n",
        "color"
      ],
      "metadata": {
        "id": "MpjsUBg6wVWa"
      },
      "execution_count": null,
      "outputs": []
    },
    {
      "cell_type": "code",
      "source": [
        "color.extend([\"#203180\",\"#992918\"]) #기존 배열에 배열을 붙임\n",
        "color"
      ],
      "metadata": {
        "id": "zr0Her1ww65_"
      },
      "execution_count": null,
      "outputs": []
    },
    {
      "cell_type": "code",
      "source": [
        "#배열에서 값의 index찾기\n",
        "color.index('orange')\n",
        "\n",
        "#만약 중복되는 값이 존재한다면 index(숫자,\"값\") = 숫자값의 list번호부터 찾아"
      ],
      "metadata": {
        "id": "T-yNF_UzxZ2K"
      },
      "execution_count": null,
      "outputs": []
    },
    {
      "cell_type": "code",
      "source": [
        "#몇개나오는지 보려면\n",
        "print(color.count(\"blacnk\"))\n",
        "print(color.count(\"black\"))"
      ],
      "metadata": {
        "id": "W_Vl6MB0yxvd"
      },
      "execution_count": null,
      "outputs": []
    },
    {
      "cell_type": "markdown",
      "source": [
        "- Pust & Pop"
      ],
      "metadata": {
        "id": "-qBlrnVE6SKy"
      }
    },
    {
      "cell_type": "code",
      "source": [
        "list = ['orange','apple','peach']"
      ],
      "metadata": {
        "id": "dZQVT-cW6RhL"
      },
      "execution_count": null,
      "outputs": []
    },
    {
      "cell_type": "code",
      "source": [
        "list.pop()\n",
        "print(list)"
      ],
      "metadata": {
        "id": "xq9Wp9is6RjS"
      },
      "execution_count": null,
      "outputs": []
    },
    {
      "cell_type": "code",
      "source": [
        "list.pop(0) # 0번째 리스트 삭제\n",
        "print(list)"
      ],
      "metadata": {
        "id": "rAi8WTRO6Rrb"
      },
      "execution_count": null,
      "outputs": []
    },
    {
      "cell_type": "code",
      "source": [
        "#특정 값을 삭제할 때 romove\n",
        "list.remove('apple')\n",
        "print(list)"
      ],
      "metadata": {
        "id": "MM3xImC76sKb"
      },
      "execution_count": null,
      "outputs": []
    },
    {
      "cell_type": "markdown",
      "source": [
        "- list 정렬"
      ],
      "metadata": {
        "id": "p7uvNouj7ytq"
      }
    },
    {
      "cell_type": "code",
      "source": [
        "member = ['이현주','정세훈','이우현','이도롱']"
      ],
      "metadata": {
        "id": "KvXG68y37zgR"
      },
      "execution_count": null,
      "outputs": []
    },
    {
      "cell_type": "code",
      "source": [
        "member.sort()\n",
        "print(member)"
      ],
      "metadata": {
        "id": "iTCvr1H47zdp"
      },
      "execution_count": null,
      "outputs": []
    },
    {
      "cell_type": "code",
      "source": [
        "member.reverse()\n",
        "print(member)"
      ],
      "metadata": {
        "id": "IU-nVIU97zWh"
      },
      "execution_count": null,
      "outputs": []
    },
    {
      "cell_type": "markdown",
      "source": [
        "\n",
        "# Set\n",
        "\n",
        "*   장점 : 합집합, 교집합 구할 수 있음\n",
        "*   단점 : 인덱스 없음\n",
        "\n"
      ],
      "metadata": {
        "id": "9lvvWt1j8KEJ"
      }
    },
    {
      "cell_type": "code",
      "source": [
        "a= {1,2,3,4}\n",
        "b= {4,5,6}\n",
        "print(type(a))"
      ],
      "metadata": {
        "id": "YE20onYI8CHj"
      },
      "execution_count": null,
      "outputs": []
    },
    {
      "cell_type": "code",
      "source": [
        "print(a.union(b)) # 합집합\n",
        "print(a.intersection(b)) #교집합\n",
        "print(a-b) #차집합"
      ],
      "metadata": {
        "id": "WnfZZmnu8Kly"
      },
      "execution_count": null,
      "outputs": []
    },
    {
      "cell_type": "code",
      "source": [],
      "metadata": {
        "id": "JaZI9BA_8KjJ"
      },
      "execution_count": null,
      "outputs": []
    },
    {
      "cell_type": "markdown",
      "source": [
        "# Tuple"
      ],
      "metadata": {
        "id": "1-TxIBRG8J5h"
      }
    },
    {
      "cell_type": "code",
      "source": [
        "t= (1,2,3)\n",
        "print(type(t))"
      ],
      "metadata": {
        "id": "GOpZYPN9-d8i"
      },
      "execution_count": null,
      "outputs": []
    },
    {
      "cell_type": "markdown",
      "source": [
        "- 스와핑"
      ],
      "metadata": {
        "id": "DbzVVl83_UyR"
      }
    },
    {
      "cell_type": "code",
      "source": [
        "a=10\n",
        "b=1\n",
        "print(\"바꾸기전: \",a,\",\",b)\n",
        "(a,b) = (b,a)\n",
        "print(\"바꾼후: \",a,\",\",b)"
      ],
      "metadata": {
        "id": "0jzxPlzk-oKa"
      },
      "execution_count": null,
      "outputs": []
    },
    {
      "cell_type": "markdown",
      "source": [
        "# Dictionary"
      ],
      "metadata": {
        "id": "6E0jvgkJEW6x"
      }
    },
    {
      "cell_type": "code",
      "source": [
        "d = dict(a=1, b=2, c=3)\n",
        "print(d)"
      ],
      "metadata": {
        "id": "D45Q0-g3_akT"
      },
      "execution_count": null,
      "outputs": []
    },
    {
      "cell_type": "code",
      "source": [
        "#dic 만드는 다른 방법\n",
        "d = {\n",
        "    \"a\" : 1,\n",
        "     \"b\": 2,\n",
        "     \"c\": 3,\n",
        "}"
      ],
      "metadata": {
        "id": "0x6Gyc33EYrp"
      },
      "execution_count": null,
      "outputs": []
    },
    {
      "cell_type": "markdown",
      "source": [
        "!! d[0] ---> ERORR 인덱스가 존재하지 않음음"
      ],
      "metadata": {
        "id": "Om68BTVBFzmR"
      }
    },
    {
      "cell_type": "code",
      "source": [
        "print(d['a']) #Key를 통해 value를찾을 수 있음"
      ],
      "metadata": {
        "id": "AZtwxSjBEY4p"
      },
      "execution_count": null,
      "outputs": []
    },
    {
      "cell_type": "code",
      "source": [
        "#dic 추가하려면\n",
        "d[\"e\"]=4\n",
        "print(d)"
      ],
      "metadata": {
        "id": "9LO_wDMAGGAi"
      },
      "execution_count": null,
      "outputs": []
    },
    {
      "cell_type": "code",
      "source": [
        "#값을 바꿀 때\n",
        "d[\"e\"] = 5\n",
        "print(d)"
      ],
      "metadata": {
        "id": "nwYpYKvjGgZ0"
      },
      "execution_count": null,
      "outputs": []
    },
    {
      "cell_type": "code",
      "source": [
        "print(d.keys())\n",
        "print(d.values())\n",
        "print(d.items())"
      ],
      "metadata": {
        "id": "flqUk-J7H3mL"
      },
      "execution_count": null,
      "outputs": []
    },
    {
      "cell_type": "markdown",
      "source": [
        "즉, key는 중복 X\n",
        "\n"
      ],
      "metadata": {
        "id": "FbZ0sVNcGzYc"
      }
    },
    {
      "cell_type": "markdown",
      "source": [
        "- for문"
      ],
      "metadata": {
        "id": "d4b4jrMeHvFb"
      }
    },
    {
      "cell_type": "code",
      "source": [
        "for k in d.keys(): # k에 dic값의 key가 순서대로 들어감\n",
        "    print(\"key: \",k,\",value: \",d[k])"
      ],
      "metadata": {
        "id": "dgpQxb5NGwML"
      },
      "execution_count": null,
      "outputs": []
    },
    {
      "cell_type": "code",
      "source": [
        "for v in d.values():\n",
        "    print(v)"
      ],
      "metadata": {
        "id": "RpH9DixIJHyy"
      },
      "execution_count": null,
      "outputs": []
    },
    {
      "cell_type": "code",
      "source": [
        "for i in d.items():\n",
        "    print(\"item: \",i) ## 튜플타입으로 결과가 나옴!!!!!!!!!!\n",
        "\n",
        "for (k,v) in d.items(): ##튜플로 변수 받을 수 있음음\n",
        "    print(\"key: \",k, \"values: \", v)"
      ],
      "metadata": {
        "id": "J9JeqxiZIrld"
      },
      "execution_count": null,
      "outputs": []
    },
    {
      "cell_type": "code",
      "source": [
        "summer ={\n",
        "    'aname':{\"lee\":3},\n",
        "    'age':24\n",
        "}"
      ],
      "metadata": {
        "id": "q5w11wkVJq2b"
      },
      "execution_count": null,
      "outputs": []
    },
    {
      "cell_type": "markdown",
      "source": [
        "#복사\n",
        "\n",
        "*   call by reference\n",
        "*   call by value (deepcopy)\n",
        "\n"
      ],
      "metadata": {
        "id": "yNOLUNT6TTIx"
      }
    },
    {
      "cell_type": "code",
      "source": [
        " a= [1,2,3]\n",
        " b=a\n",
        " print(a==b)\n",
        " #a,b의 주소가 같아짐 call by reference"
      ],
      "metadata": {
        "id": "A2SvkO2bSbia"
      },
      "execution_count": null,
      "outputs": []
    },
    {
      "cell_type": "code",
      "source": [
        "a[0]= 38\n",
        "print(a)\n",
        "print(b)\n",
        "#call by reference"
      ],
      "metadata": {
        "id": "YhsuGRYfTrD2"
      },
      "execution_count": null,
      "outputs": []
    },
    {
      "cell_type": "code",
      "source": [
        "#값만 복사해올 때 call by value\n",
        "\n",
        "c = [1,2,3]\n",
        "d = c[:] #a의 value 전부 복사해서 넣는다.\n",
        "\n",
        "print(c)\n",
        "print(d)\n",
        "\n",
        "\n",
        "c[0]=0\n",
        "print(c)\n",
        "print(d)"
      ],
      "metadata": {
        "id": "S6VPzudvTvJB"
      },
      "execution_count": null,
      "outputs": []
    },
    {
      "cell_type": "code",
      "source": [
        "#다른방법\n",
        "import copy\n",
        "\n",
        "d = copy.deepcopy(c)\n",
        "\n",
        "c[0] = 'a'\n",
        "print(c)\n",
        "print(d)"
      ],
      "metadata": {
        "id": "ah18kU3iVQHs"
      },
      "execution_count": null,
      "outputs": []
    },
    {
      "cell_type": "markdown",
      "source": [],
      "metadata": {
        "id": "xMCKKkV6VY0y"
      }
    },
    {
      "cell_type": "markdown",
      "source": [
        "# Function"
      ],
      "metadata": {
        "id": "PFGz5a44WUVp"
      }
    },
    {
      "cell_type": "code",
      "source": [
        "def sum (a,b):\n",
        "    result = a+b\n",
        "    return result"
      ],
      "metadata": {
        "id": "6ytDltbdWUSB"
      },
      "execution_count": null,
      "outputs": []
    },
    {
      "cell_type": "code",
      "source": [
        "print(sum(1,2))\n",
        "print(sum(10,334))"
      ],
      "metadata": {
        "id": "xlYd34dGWUOh"
      },
      "execution_count": null,
      "outputs": []
    },
    {
      "cell_type": "code",
      "source": [
        "#함수의 주소 확인하기\n",
        "print(sum) # 16진수\n",
        "print(id(sum)) # 10진수"
      ],
      "metadata": {
        "id": "v8xZu9fgWUIk"
      },
      "execution_count": null,
      "outputs": []
    },
    {
      "cell_type": "code",
      "source": [
        "g=10\n",
        "def sum2(x,y):\n",
        "    global g\n",
        "    g+=1\n",
        "    return x,y\n",
        "\n",
        "print(g)\n",
        "print(sum2(2,3))"
      ],
      "metadata": {
        "id": "PG50xDfdYY8X"
      },
      "execution_count": null,
      "outputs": []
    },
    {
      "cell_type": "code",
      "source": [
        "#함수 예제\n",
        "\n",
        "def connectURL(protocol, server, port):\n",
        "    address= protocol+ \"://\" + server +\":\"+port\n",
        "    return address\n",
        "\n",
        "print(connectURL('http','naver.com','80'))"
      ],
      "metadata": {
        "id": "QTXTdBsvcEWR"
      },
      "execution_count": null,
      "outputs": []
    },
    {
      "cell_type": "code",
      "source": [
        "# input인자의 개수가 일정하지 않을 때\n",
        "\n",
        "def test(*args):\n",
        "    print(args)\n",
        "\n",
        "\n",
        "test(1,2,3)"
      ],
      "metadata": {
        "id": "udDlCrnmeL21"
      },
      "execution_count": null,
      "outputs": []
    },
    {
      "cell_type": "markdown",
      "source": [
        "# 제어문"
      ],
      "metadata": {
        "id": "R0a3G0wxjZyo"
      }
    },
    {
      "cell_type": "markdown",
      "source": [
        "- if"
      ],
      "metadata": {
        "id": "lZwNlKEtoDXj"
      }
    },
    {
      "cell_type": "code",
      "source": [
        "#if\n",
        "\n",
        "def fun(value):\n",
        "    if value >5:\n",
        "        print(str(value) + 'is bigger than 5')\n",
        "    else:\n",
        "        print(str(value)  , \"is smaller than 5\")\n",
        "\n",
        "int(input(\"enter your number: \"))"
      ],
      "metadata": {
        "id": "_hUdA8IOkWsL"
      },
      "execution_count": null,
      "outputs": []
    },
    {
      "cell_type": "code",
      "source": [
        "#구간나누기\n",
        "\n",
        "def grade(score):\n",
        "    if 90 <= score <=10:\n",
        "        grade = 'A'\n",
        "    elif 80 <= score <90:\n",
        "        grade ='B'\n",
        "    elif 70 <= score <80:\n",
        "        grade = 'C'\n",
        "    elif 60<= score <70:\n",
        "        grade = 'D'\n",
        "    else:\n",
        "        grade ='F'\n",
        "    print(\"You got a \",grade)\n",
        "\n",
        "grade(int(input(\"Enter you score: \")))"
      ],
      "metadata": {
        "id": "4f_nu3OSkcFz"
      },
      "execution_count": null,
      "outputs": []
    },
    {
      "cell_type": "markdown",
      "source": [
        "- while , for"
      ],
      "metadata": {
        "id": "0mqa4gcdnASK"
      }
    },
    {
      "cell_type": "code",
      "source": [
        "L= ['이현주',160, '010-1111']\n",
        "\n",
        "for i in L:\n",
        "    print(i)"
      ],
      "metadata": {
        "id": "KRx4DwLzoLwc"
      },
      "execution_count": null,
      "outputs": []
    },
    {
      "cell_type": "code",
      "source": [],
      "metadata": {
        "id": "Q3dCWOSKokim"
      },
      "execution_count": null,
      "outputs": []
    }
  ]
}